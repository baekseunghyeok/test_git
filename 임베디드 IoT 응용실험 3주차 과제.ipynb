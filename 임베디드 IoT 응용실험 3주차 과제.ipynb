{
 "cells": [
  {
   "cell_type": "code",
   "execution_count": 2,
   "metadata": {},
   "outputs": [
    {
     "name": "stdout",
     "output_type": "stream",
     "text": [
      "Humpty Dumpty sat on a wall,\n",
      "Humpty Dumpty had a great fall.\n",
      "All the king's horses and all the king's men\n",
      "Couldn't put Humpty together again.\n",
      "\n",
      "a : 12 | b : 0 | c : 1 | d : 5 | e : 7 | f : 1 | g : 5 | h : 8 | i : 3 | j : 0 | k : 2 | l : 9 | m : 6 | n : 7 | o : 4 | p : 6 | q : 0 | r : 3 | s : 5 | t : 13 | u : 7 | v : 0 | w : 1 | x : 0 | y : 5 | z : 0 | "
     ]
    }
   ],
   "source": [
    "#11장 연습문제 3번 HumptyDumpty.txt 파일에 있는 문자들의 빈도를 계산하시오.\n",
    "infile=open('D:\\\\HumptyDumpty.txt','r')\n",
    "lang=[0 for i in range(26)]\n",
    "lang1=['a','b','c','d','e','f','g','h','i','j','k','l','m','n','o','p','q','r','s','t','u','v','w','x','y','z']\n",
    "lang2=['A','B','C','D','E','F','G','H','I','J','K','L','M','N','O','P','Q','R','S','T','U','V','W','X','Y','Z']\n",
    "for line in infile:  \n",
    "    print(line,end='')\n",
    "    for char in line:\n",
    "        for i in range(26):\n",
    "            if char==lang1[i] or char==lang2[i]:# 대소문자 구별하지 않기 위해\n",
    "                lang[i]+=1\n",
    "            else:\n",
    "                continue\n",
    "print('\\n')\n",
    "for i in range(26):\n",
    "    print('%s : %s '%(lang1[i],lang[i]),end='| ')\n",
    "\n",
    "infile.close()"
   ]
  },
  {
   "cell_type": "code",
   "execution_count": 3,
   "metadata": {},
   "outputs": [
    {
     "name": "stdout",
     "output_type": "stream",
     "text": [
      "저장할 파일 위치를 입력하세요: D:\\\\output.txt\n"
     ]
    }
   ],
   "source": [
    "# 11장 연습문제 5번 numbers.txt 파일에 실수값들이 저장되어 있다. \n",
    "# 합계와 평균을  구한 후 output.txt 화일에 결과를 저장하시오.\n",
    "infile=open('D:\\\\numbers.txt','r')\n",
    "sum=0\n",
    "count=0\n",
    "def meanCal():\n",
    "    result=sum/count\n",
    "    return result\n",
    "\n",
    "for line in infile:\n",
    "    count=count+1\n",
    "    sum=float(line)+sum\n",
    "    sum=round(sum,2)\n",
    "    mean=meanCal()\n",
    "\n",
    "outfilename=input('저장할 파일 위치를 입력하세요: ')\n",
    "outfile=open(outfilename,'a')\n",
    "outfile.write('%f\\n'%sum)\n",
    "outfile.write('%f\\n'%mean)\n",
    "\n",
    "infile.close()\n",
    "outfile.close()"
   ]
  },
  {
   "cell_type": "code",
   "execution_count": 4,
   "metadata": {},
   "outputs": [
    {
     "name": "stdout",
     "output_type": "stream",
     "text": [
      "반지름: 100 원의 둘레: 628.318531 원의 면적: 31415.926536\n"
     ]
    }
   ],
   "source": [
    "# 13장 연습문제 1번\n",
    "import math\n",
    "class Circle:\n",
    "    def __init__(self,radius,around,area):\n",
    "        self.radius=radius\n",
    "        self.around=around\n",
    "        self.area=area\n",
    "    def calcPerimeter(self):\n",
    "        self.around=2*math.pi*self.radius\n",
    "    def calcArea(self):\n",
    "        self.area=math.pi*self.radius**2\n",
    "        \n",
    "my_Circle=Circle(100,0,0)\n",
    "my_Circle.calcPerimeter()\n",
    "my_Circle.calcArea()\n",
    "print('반지름: %i 원의 둘레: %f 원의 면적: %f' %(my_Circle.radius,my_Circle.around,my_Circle.area))"
   ]
  },
  {
   "cell_type": "code",
   "execution_count": 5,
   "metadata": {},
   "outputs": [],
   "source": [
    "# 13장 연습문제 4번\n",
    "from turtle import * #turtle 모듈에서 모든 것을 불러옴\n",
    "\n",
    "class MyTurtle(Turtle):\n",
    "    def drawSquare(self):\n",
    "        for i in range(4):\n",
    "            self.right(90)\n",
    "            self.forward(100)\n",
    "    \n",
    "my_turtle=MyTurtle()\n",
    "my_turtle.drawSquare()"
   ]
  },
  {
   "cell_type": "code",
   "execution_count": null,
   "metadata": {},
   "outputs": [],
   "source": []
  }
 ],
 "metadata": {
  "kernelspec": {
   "display_name": "Python 3",
   "language": "python",
   "name": "python3"
  },
  "language_info": {
   "codemirror_mode": {
    "name": "ipython",
    "version": 3
   },
   "file_extension": ".py",
   "mimetype": "text/x-python",
   "name": "python",
   "nbconvert_exporter": "python",
   "pygments_lexer": "ipython3",
   "version": "3.7.6"
  }
 },
 "nbformat": 4,
 "nbformat_minor": 4
}
